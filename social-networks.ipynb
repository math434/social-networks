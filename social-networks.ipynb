{
 "cells": [
  {
   "cell_type": "markdown",
   "metadata": {},
   "source": [
    "---\n",
    "# MATH 434/534 Case Study: Social Networks\n",
    "---"
   ]
  },
  {
   "cell_type": "markdown",
   "metadata": {},
   "source": [
    "## Introduction\n",
    "\n",
    "In this case study we will study the important question:\n",
    "\n",
    "> How closely related are two people in a social network?\n",
    "\n",
    "A social network, such as Facebook, can be modeled using an **undirected graph** $G = (V,E)$, where $V$ is a set of **vertices** (or **nodes**), and $E$ is a set of **edges**. For example, consider the following graph."
   ]
  },
  {
   "cell_type": "markdown",
   "metadata": {},
   "source": [
    "![text](https://upload.wikimedia.org/wikipedia/commons/5/5b/6n-graf.svg)\n",
    "\n",
    "This graph has vertex set\n",
    "\n",
    "$$\n",
    "V = \\{1,2,3,4,5,6\\}\n",
    "$$\n",
    "\n",
    "and edge set\n",
    "\n",
    "$$\n",
    "E = \\{\\{1,2\\}, \\{1,5\\}, \\{2,3\\}, \\{2,5\\}, \\{3,4\\}, \\{4,5\\}, \\{4,6\\}\\}.\n",
    "$$\n",
    "\n",
    "On the Facebook graph, individuals are represented by nodes, and two individuals are connected by an edge if they are friends on Facebook. See the Wikipedia page on [Graph theory](https://en.wikipedia.org/wiki/Graph_theory) for more about graphs."
   ]
  },
  {
   "cell_type": "markdown",
   "metadata": {},
   "source": [
    "## Shortest-path distance in a social network\n",
    "\n",
    "One measure of closeness between two people in a social network could be the length of the **shortest path** between them. In the above graph, the shortest path from node $1$ to node $6$ is the path $(1, 5, 4, 6)$, which has length $3$; thus, we could say that the distance between nodes $1$ and $6$ is $3$."
   ]
  },
  {
   "cell_type": "markdown",
   "metadata": {},
   "source": [
    "---\n",
    "### Exercise 1\n",
    "\n",
    "Complete the following shortest-path distance matrix for the above graph.\n",
    "\n",
    "|  $d_{ij}$     | 1 | 2 | 3 | 4 | 5 | 6 |\n",
    "|---    |:-:|:-:|:-:|:-:|:-:|:-:|\n",
    "| **1** | 0 |   |   |   |   | 3 |\n",
    "| **2** |   | 0 |   |   |   |   |\n",
    "| **3** |   |   | 0 |   |   |   |\n",
    "| **4** |   |   |   | 0 |   |   |\n",
    "| **5** |   |   |   |   | 0 |   |\n",
    "| **6** | 3 |   |   |   |   | 0 |\n",
    "\n",
    "---"
   ]
  },
  {
   "cell_type": "markdown",
   "metadata": {},
   "source": [
    "Although this is a simple way to measure the distance between individuals in a social network, it is not entirely appropriate. For example, both node $3$ and node $6$ have a shortest-path distance of $2$ from node $5$, yet we would all agree that node $3$ is \"closer\" to node $5$ since $3$ and $5$ have two friends in common, but $6$ and $5$ only have one friend in common."
   ]
  },
  {
   "cell_type": "markdown",
   "metadata": {},
   "source": [
    "## Resistance distance\n",
    "\n",
    "Intuition tells us that our closeness measurement should obey the following rule:\n",
    "\n",
    "> Two individuals are closer if they have more friends in common.\n",
    "\n",
    "We will see **resistance distance** follows this rule much better than the shortest-path distance.\n",
    "\n",
    "The notion of [resistance distance](https://en.wikipedia.org/wiki/Resistance_distance) had its origin in the study of electrical networks by [Klein and Randić (1993)](http://link.springer.com/article/10.1007%2FBF01164627) and is defined as the resistance between two nodes $i$ and $j$ in an electrical network, assuming $1 \\Omega$ of resistance on each edge. [Bozzo and Franceschet (2013)](http://www.sciencedirect.com/science/article/pii/S0378873313000488) showed that resistance distance matches the information-theoretic distance measure among nodes in a network that was proposed by [Stephenson and Zelen (1989)](http://www.sciencedirect.com/science/article/pii/0378873389900166).\n",
    "\n",
    "Before we can define the resistance distance, we need to first introduce some more notions from graph theory."
   ]
  },
  {
   "cell_type": "markdown",
   "metadata": {},
   "source": [
    "## Adjacency matrix\n",
    "\n",
    "An undirected graph $G = (V, E)$ with $n$ nodes can be represented using an $n \\times n$ symmetric matrix $A$ which is called the **adjacency matrix** of the graph. The entries of $A$ are defined as\n",
    "\n",
    "$$\n",
    "A_{ij} = \n",
    "\\begin{cases}\n",
    "1, & \\text{if $\\{i,j\\} \\in E$},\\\\\n",
    "0, & \\text{otherwise}.\n",
    "\\end{cases}\n",
    "$$"
   ]
  },
  {
   "cell_type": "markdown",
   "metadata": {},
   "source": [
    "---\n",
    "### Exercise 2\n",
    "\n",
    "Write down the adjacency matrix of the following graph.\n",
    "\n",
    "![text](https://upload.wikimedia.org/wikipedia/commons/5/5b/6n-graf.svg \"A graph with 6 nodes and 7 edges.\")\n",
    "\n",
    "---"
   ]
  },
  {
   "cell_type": "markdown",
   "metadata": {},
   "source": [
    "## Laplacian matrix\n",
    "\n",
    "The **Laplacian matrix** of an undirected graph $G = (V, E)$ with $n$ nodes is the $n \\times n$ symmetric matrix $L$ defined by\n",
    "\n",
    "$$\n",
    "L = \\mathrm{Diag}(d) - A,\n",
    "$$\n",
    "\n",
    "where: \n",
    "\n",
    "- $A$ is the adjacency matrix of $G$; \n",
    "- $d$ is the vector whose $i^\\text{th}$ entry is the **degree** of node $i$ (i.e., the number of edges attached to node $i$);\n",
    "- $\\mathrm{Diag}(d)$ is the diagonal matrix having the vector $d$ along its diagonal."
   ]
  },
  {
   "cell_type": "markdown",
   "metadata": {},
   "source": [
    "---\n",
    "### Exercise 3\n",
    "\n",
    "1. Prove that $d = Ae$ and $Le = 0$, where $e$ is the vector of all ones.\n",
    "\n",
    "2. Write down the Laplacian matrix of the following graph.\n",
    "\n",
    "    ![text](https://upload.wikimedia.org/wikipedia/commons/5/5b/6n-graf.svg \"A graph with 6 nodes and 7 edges.\")\n",
    "   \n",
    "3. Write a Julia function called `laplacian` that takes an adjacency matrix $A$ and returns the corresponding Laplacian matrix $L$.\n",
    "\n",
    "    ```julia\n",
    "    L = laplacian(A)\n",
    "    ```\n",
    "    \n",
    "    Test your function using the graph from part 2.\n",
    "---"
   ]
  },
  {
   "cell_type": "markdown",
   "metadata": {},
   "source": [
    "## Graph connectivity and the Laplacian matrix\n",
    "\n",
    "A graph $G$ is called **connected** if any two nodes in $G$ are connected by some path. The above graph is clearly connected, but if we remove edges $\\{3,4\\}$ and $\\{4,5\\}$, then the graph will no longer be connected. \n",
    "\n",
    "It can be shown that $G$ is connected if and only if the **nullspace** of its Laplacian matrix \n",
    "\n",
    "$$\n",
    "\\mathrm{null}(L) = \\{ x \\mid Lx = 0 \\}\n",
    "$$\n",
    "\n",
    "is equal to \n",
    "\n",
    "$$\n",
    "\\mathrm{span}\\{e\\} = \\{ \\lambda e \\mid \\lambda \\in \\mathbb{R}\\}.\n",
    "$$\n",
    "\n",
    "In other words, $G$ is connected if and only if the multiplicity of the eigenvalue $0$ is one."
   ]
  },
  {
   "cell_type": "markdown",
   "metadata": {},
   "source": [
    "---\n",
    "### Exercise 4\n",
    "\n",
    "1. Prove that \n",
    "\n",
    "    $$\n",
    "    L = \\sum_{\\{i,j\\} \\in E} (e_i - e_j)(e_i - e_j)^T\n",
    "    $$\n",
    "\n",
    "    where $e_i$ is the vector of length $n$ that is one in the $i^\\mathrm{th}$ entry, and is zero in every other entry (i.e., $e_i$ is the $i^\\mathrm{th}$ column of the $n \\times n$ identity matrix).\n",
    "    \n",
    "2. Use the relationship from part 1 to prove that the Laplacian matrix is **positive semidefinite**; that is, prove that $x^T L x \\geq 0$ for all vectors $x$.\n",
    "\n",
    "3. Let $G$ be a connected graph and $L$ its Laplacian matrix. Prove that $L + ee^T$ is **positive definite**. (Hint: Use the fact that $L$ is positive semidefinite and thus $L = P^TP$ for some $n \\times n$ matrix $P$.)\n",
    "\n",
    "---"
   ]
  },
  {
   "cell_type": "markdown",
   "metadata": {},
   "source": [
    "## Definition of resistance distance\n",
    "\n",
    "The resistance distance $r_{ij}$ between nodes $i$ and $j$ on a connected graph $G$ is defined as\n",
    "\n",
    "$$\n",
    "r_{ij} = \\|e_i - e_j\\|_M^2,\n",
    "$$\n",
    "\n",
    "where \n",
    "\n",
    "$$\n",
    "\\|x\\|_M = \\sqrt{x^T M x} \\qquad \\text{and} \\qquad M = \\left(L + ee^T\\right)^{-1}.\n",
    "$$\n",
    "\n",
    "Since $L + ee^T$ is positive definite, the matrix $M$ is also positive definite, which implies that $\\| \\cdot \\|_M$ is a valid vector norm."
   ]
  },
  {
   "cell_type": "markdown",
   "metadata": {},
   "source": [
    "---\n",
    "### Exercise 5\n",
    "\n",
    "1. Prove that \n",
    "\n",
    "    $$\n",
    "    r_{ij} = \\|U^{-T}(e_i - e_j)\\|_2^2\n",
    "    $$\n",
    "\n",
    "    where $U$ is the Cholesky factor of the positive definite matrix $L + ee^T$. Note that $U^{-T} = \\left(U^T\\right)^{-1} = \\left(U^{-1}\\right)^T$.\n",
    "\n",
    "2. Compute $L + ee^T$ for the following graph and verify that it is positive definite by computing its Cholesky factor $U$.\n",
    "\n",
    "    ![text](https://upload.wikimedia.org/wikipedia/commons/5/5b/6n-graf.svg \"A graph with 6 nodes and 7 edges.\")\n",
    "\n",
    "3. Verify that node $5$ is closer to node $3$ than to node $6$ by computing the resistance distances $r_{35}$ and $r_{56}$ using the formula from part 1. To compute the vector $z = U^{-T}(e_i - e_j)$ efficiently, you should use backward substitution to solve the **lower-triangular** system $U^Tz = b$, where $b = e_i - e_j$; this is done in Julia using the command `z = U'\\b`. Do not use the Julia command `z = inv(U')*b` since it is less efficient and less accurate.\n",
    "\n",
    "4. Write a Julia function called `resistance` that returns the resistance distance $r_{ij}$ given the Cholesky factor $U$ of $L + ee^T$ and nodes $i$ and $j$.\n",
    "\n",
    "    ```julia\n",
    "    rij = resistance(U, i, j)\n",
    "    ```\n",
    "\n",
    "---"
   ]
  },
  {
   "cell_type": "markdown",
   "metadata": {},
   "source": [
    "## A larger social network\n",
    "\n",
    "For a larger example, we will now work with an author collaboration network on the [arXiv.org e-Print archive](http://arxiv.org/) in the area of *General Relativity and Quantum Cosmology*. The nodes of the graph will be authors of papers in this area and two authors will be connected by an edge if they have collaborated on a paper together.\n",
    "\n",
    "The adjacency matrix for this graph, [ca-GrQc](http://www.cise.ufl.edu/research/sparse/matrices/SNAP/ca-GrQc.html), is available from the [The University of Florida Sparse Matrix Collection](https://www.cise.ufl.edu/research/sparse/matrices/). This is a large graph having 5242 nodes and 14484 edges.\n",
    "\n",
    "However, the [ca-GrQc](http://www.cise.ufl.edu/research/sparse/matrices/SNAP/ca-GrQc.html) graph is not connected; for example, there are authors who have not collaborated with anyone else. We will instead work with the **largest connected component** of the graph, which has 4158 nodes and 13422 edges and can be visualized as follows.\n",
    "\n",
    "![text](http://yifanhu.net/GALLERY/GRAPHS/GIF_SMALL/SNAP@ca-GrQc.gif)\n"
   ]
  },
  {
   "cell_type": "markdown",
   "metadata": {},
   "source": [
    "---\n",
    "### Exercise 6\n",
    "\n",
    "1. Download the MATLAB matrix file [Graph.mat.zip](https://www.dropbox.com/s/bqspcdw2shv2xf7/Graph.mat.zip?dl=1) and unzip it to obtain the file `Graph.mat`. \n",
    "\n",
    "2. Use the Julia [MAT package](https://github.com/simonster/MAT.jl) to read the adjacency matrix $A$ stored in `Graph.mat`.\n",
    "\n",
    "3. Compute the Laplacian matrix $L$.\n",
    "\n",
    "4. Verify that $L + ee^T$ is positive definite by computing its Cholesky factor $U$.\n",
    "\n",
    "5. Compute resistance distance $r_{ij}$ between node $i = 500$ and node $j = 3000$.\n",
    "\n",
    "---"
   ]
  },
  {
   "cell_type": "markdown",
   "metadata": {},
   "source": [
    "## Decreasing resistance distance  \n",
    "\n",
    "We would like to verify that the resistance distance between two people in a social network decreases as one person becomes friends with the other person's friends.\n",
    "\n",
    "We will do this by adding connections to the graph. We will make node $i$ friends with the friends of node $j$, one at a time, and compute the new resistance distance $r_{ij}$ each time.\n",
    "\n",
    "Suppose node $k$ is a friend of node $j$. To make $i$ and $k$ friends, we simply need to make `A[i,k] = 1` and `A[k,i] = 1`."
   ]
  },
  {
   "cell_type": "markdown",
   "metadata": {},
   "source": [
    "---\n",
    "### Exercise 7\n",
    "\n",
    "1. Write a Julia function `change_resistance` that takes the adjacency matrix $A$, node $i$, and node $j$, and returns a vector $r$ that contains the value of $r_{ij}$ after node $i$ is connected to each friend of $j$, one at a time.\n",
    "\n",
    "    ```julia\n",
    "    r = change_resistance(A, i, j)\n",
    "    ```\n",
    "\n",
    "2. Test your function with $i = 500$ and $j = 3000$. Plot the vector $r$ to visualize how $r_{ij}$ decreases as nodes $i$ and $j$ become more closely connected.\n",
    "\n",
    "---"
   ]
  },
  {
   "cell_type": "markdown",
   "metadata": {},
   "source": [
    "## Improving efficiency using rank-one updates\n",
    "\n",
    "You may have noticed that your implementation of `change_resistance` is slow since you needed to compute a new Cholesky decomposition of $L + ee^T$ each time a new edge was added to the graph.\n",
    "\n",
    "However, the matrix $L + ee^T$ does not change much when a new edge is added to the graph. If we add the edge $\\{i,k\\}$ to the graph $G$, this corresponds to changing the $\\{i,k\\}$ and $\\{k,i\\}$ entries of the adjacency matrix $A$ from zero to one. This, in turn, will change the $\\{i,k\\}$, $\\{k,i\\}$, $\\{i,i\\}$, and $\\{k,k\\}$ entries of $L$. Changing these four entries of $L$ can be conveniently represented as replacing $L$ with $L + xx^T$, for a special vector $x$.\n",
    "\n",
    "The operation $L + xx^T$ is known as a **rank-one update** of $L$ since $xx^T$ is a matrix whose rank is one."
   ]
  },
  {
   "cell_type": "markdown",
   "metadata": {},
   "source": [
    "---\n",
    "### Exercise 8\n",
    "\n",
    "Let $G$ be a graph and $L$ be its Laplacian matrix. \n",
    "\n",
    "1. Find the special vector $x$ such that $L + xx^T$ is the Laplacian matrix of the graph that is obtained by adding edge $\\{i,k\\}$ to the graph $G$.\n",
    "\n",
    "2. Let $B = L + ee^T$ and suppose its Cholesky decomposition is $B = U^TU$. Let $\\hat{L} = L + xx^T$ and $\\hat{B} = \\hat{L} + ee^T$. Show that\n",
    "\n",
    "$$\n",
    "\\hat{B} = B + xx^T = \n",
    "\\begin{bmatrix}\n",
    "U \\\\ \n",
    "x^T \\\\\n",
    "\\end{bmatrix}^T\n",
    "\\begin{bmatrix}\n",
    "U \\\\ \n",
    "x^T \\\\\n",
    "\\end{bmatrix}.\n",
    "$$\n",
    "\n",
    "---"
   ]
  },
  {
   "cell_type": "markdown",
   "metadata": {},
   "source": [
    "## Updating the Cholesky factor\n",
    "\n",
    "Given the Cholesky factorization $B = U^TU$ and a vector $x$, we want to efficiently compute the Cholesky factorization of $\\hat{B} = B + xx^T$.\n",
    "\n",
    "By Exercise 8, we can see that we *almost* have the Cholesky factorization of $\\hat{B}$. However, the $(n+1) \\times n$ matrix\n",
    "\n",
    "$$\n",
    "\\begin{bmatrix}\n",
    "U \\\\\n",
    "x^T \\\\\n",
    "\\end{bmatrix}\n",
    "$$\n",
    "\n",
    "is not a square upper-triangular matrix with positive diagonal entries."
   ]
  },
  {
   "cell_type": "markdown",
   "metadata": {},
   "source": [
    "We have to find a way to fix this matrix so that it is upper-triangular with positive diagonal entries.\n",
    "\n",
    "This can be done by finding an $(n+1) \\times (n+1)$ orthogonal matrix $Q$ such that\n",
    "\n",
    "$$\n",
    "Q^T\n",
    "\\begin{bmatrix}\n",
    "U \\\\\n",
    "x^T \\\\\n",
    "\\end{bmatrix}\n",
    "= \n",
    "\\begin{bmatrix}\n",
    "\\hat{U} \\\\\n",
    "0 \\\\\n",
    "\\end{bmatrix},\n",
    "$$\n",
    "\n",
    "where $\\hat{U}$ is upper-triangular with positive diagonal entries. Then\n",
    "\n",
    "$$\n",
    "\\hat{B} = \\hat{U}^T \\hat{U}.\n",
    "$$\n",
    "\n",
    "Thus, $\\hat{U}$ would be the desired Cholesky factor of $\\hat{B}$!"
   ]
  },
  {
   "cell_type": "markdown",
   "metadata": {},
   "source": [
    "---\n",
    "### Exercise 9\n",
    "\n",
    "Show that if $Q$ is an $(n+1) \\times (n+1)$ orthogonal matrix,\n",
    "\n",
    "$$\n",
    "\\hat{B} =\n",
    "\\begin{bmatrix}\n",
    "U \\\\ \n",
    "x^T \\\\\n",
    "\\end{bmatrix}^T\n",
    "\\begin{bmatrix}\n",
    "U \\\\ \n",
    "x^T \\\\\n",
    "\\end{bmatrix},\n",
    "\\qquad\n",
    "\\text{and}\n",
    "\\qquad\n",
    "Q^T\n",
    "\\begin{bmatrix}\n",
    "U \\\\\n",
    "x^T \\\\\n",
    "\\end{bmatrix}\n",
    "= \n",
    "\\begin{bmatrix}\n",
    "\\hat{U} \\\\\n",
    "0 \\\\\n",
    "\\end{bmatrix},\n",
    "$$\n",
    "\n",
    "then $\\hat{B} = \\hat{U}^T \\hat{U}$.\n",
    "\n",
    "---"
   ]
  },
  {
   "cell_type": "markdown",
   "metadata": {},
   "source": [
    "## Givens rotations\n",
    "\n",
    "We will use Givens rotations to iteratively zero out the last row of \n",
    "\n",
    "$$\n",
    "\\begin{bmatrix}\n",
    "U \\\\\n",
    "x^T \\\\\n",
    "\\end{bmatrix}.\n",
    "$$\n",
    "\n",
    "Recall that $U = (u_{ij})$ is the Cholesky factor of the positive definite matrix $L + ee^T$, so $U$ is upper triangular and has _positive diagonal entries_."
   ]
  },
  {
   "cell_type": "markdown",
   "metadata": {},
   "source": [
    "Since $u_{11} > 0$, we can find an orthogonal rotation matrix\n",
    "\n",
    "$$\n",
    "Q = \n",
    "\\begin{bmatrix}\n",
    "c & -s \\\\\n",
    "s &  c \\\\\n",
    "\\end{bmatrix}\n",
    "$$\n",
    "\n",
    "such that $c > 0$ and\n",
    "\n",
    "$$\n",
    "Q^T \n",
    "\\begin{bmatrix}\n",
    "u_{11} \\\\ x_1\n",
    "\\end{bmatrix}\n",
    "=\n",
    "\\begin{bmatrix}\n",
    "\\sqrt{u_{11}^2 + x_1^2} \\\\ 0\n",
    "\\end{bmatrix}.\n",
    "$$\n",
    "\n",
    "(Note that $c^2 + s^2 = 1$ follows from $Q$ being orthogonal.)"
   ]
  },
  {
   "cell_type": "markdown",
   "metadata": {},
   "source": [
    "We define the **Givens rotation matrix**\n",
    "\n",
    "$$\n",
    "Q_1 = \n",
    "\\begin{bmatrix}\n",
    "c & 0 & -s \\\\\n",
    "0 & I_{n-1} & 0 \\\\\n",
    "s & 0 & c \\\\\n",
    "\\end{bmatrix}.\n",
    "$$\n",
    "\n",
    "Then\n",
    "\n",
    "$$\n",
    "Q_1^T\n",
    "\\begin{bmatrix}\n",
    "U \\\\\n",
    "x^T \\\\\n",
    "\\end{bmatrix}\n",
    "=\n",
    "\\begin{bmatrix}\n",
    "c & 0 & s \\\\\n",
    "0 & I_{n-1} & 0 \\\\\n",
    "-s & 0 & c \\\\\n",
    "\\end{bmatrix}\n",
    "\\begin{bmatrix}\n",
    "u_{11} & \\bar{u}^T \\\\\n",
    "0 & \\bar{U} \\\\\n",
    "x_1 & \\bar{x}^T \\\\\n",
    "\\end{bmatrix}\n",
    "=\n",
    "\\begin{bmatrix}\n",
    "\\sqrt{u_{11}^2 + x_1^2} & \\hat{u}^T \\\\\n",
    "0 & \\bar{U} \\\\\n",
    "0 & \\hat{x}^T \\\\\n",
    "\\end{bmatrix}.\n",
    "$$\n",
    "\n",
    "Thus, we have zeroed out the first entry, $x_1$, in the last row. Notice that only the first and last rows have been modified.\n",
    "\n",
    "We will proceed in a similar way to zero out $x_2,\\ldots,x_n$."
   ]
  },
  {
   "cell_type": "markdown",
   "metadata": {},
   "source": [
    "---\n",
    "### Exercise 10\n",
    "\n",
    "1. Find the formulas for $c$ and $s$.\n",
    "\n",
    "2. Find the formulas for $\\hat{u}^T$ and $\\hat{x}^T$.\n",
    "\n",
    "---"
   ]
  },
  {
   "cell_type": "markdown",
   "metadata": {},
   "source": [
    "## Cholesky update algorithm\n",
    "\n",
    "Given an upper triangular matrix $U$ with positive diagonal entries and a vector $x$, the **Cholesky update algorithm** will overwrite $U$ with $\\hat{U}$, and overwrite $x$ with zeros, such that\n",
    "\n",
    "$$\n",
    "\\begin{bmatrix}\n",
    "U \\\\ \n",
    "x^T \\\\\n",
    "\\end{bmatrix}^T\n",
    "\\begin{bmatrix}\n",
    "U \\\\ \n",
    "x^T \\\\\n",
    "\\end{bmatrix}\n",
    "= \\hat{U}^T \\hat{U},\n",
    "$$\n",
    "\n",
    "where $\\hat{U}$ is upper triangular with positive diagonal entries.\n",
    "\n",
    "The general description of the algorithm is as follows.\n",
    "\n",
    "```julia\n",
    "for j = 1:n\n",
    "    # Use U[j,j] and x[j] to compute c and s.\n",
    "    # Set U[j,j] = sqrt(U[j,j]^2 + x[j]^2).\n",
    "    # Set x[j] = 0.\n",
    "    # Use c and s to update U[j,j+1:n] and x[j+1:n].\n",
    "end\n",
    "```"
   ]
  },
  {
   "cell_type": "markdown",
   "metadata": {},
   "source": [
    "---\n",
    "### Exercise 11\n",
    "\n",
    "1. Write a Julia function `chol_update!` that takes an $n \\times n$ upper-triangular matrix $U$ with positive diagonal entries and a vector $x$ of length $n$, and overwrites $U$ with an $n \\times n$ upper-triangular matrix $\\hat{U}$ with postive diagonal entries such that $U^TU + xx^T = \\hat{U}^T\\hat{U}$.\n",
    "\n",
    "    ```julia\n",
    "    chol_update!(U, x)\n",
    "    ```\n",
    "\n",
    "2. Write a simple test using a random matrix and a random vector to verify that your `chol_update!` function is working correctly. Check your answer using Julia's `cholesky` function.\n",
    "---"
   ]
  },
  {
   "cell_type": "markdown",
   "metadata": {},
   "source": [
    "## The final stretch\n",
    "\n",
    "We are now ready to significantly speed up the `change_resistance` function using our new `chol_update!` function."
   ]
  },
  {
   "cell_type": "markdown",
   "metadata": {},
   "source": [
    "---\n",
    "### Exercise 12\n",
    "\n",
    "1. Write a Julia function `change_resistance_fast` that takes the adjacency matrix $A$, node $i$, and node $j$, and returns a vector $r$ that contains the value of $r_{ij}$ after node $i$ is connected to each friend of $j$, one at a time.\n",
    "\n",
    "    ```julia\n",
    "    r = change_resistance_fast(A, i, j)\n",
    "    ```\n",
    "    \n",
    "    This function should only use `cholesky` once to compute the initial Cholesky factor of $L + ee^T$. Afterwards, the Cholesky factor should be updated using your `chol_update!` function. The matrices $A$ and $L$ should not be directly updated.\n",
    "\n",
    "2. Test your function with $i = 500$ and $j = 3000$. Verify that `change_resistance_fast` produces the same result as your `change_resistance` function. \n",
    "\n",
    "3. Use `@time` to compare the running time and memory allocation of `change_resistance` and `change_resistance_fast`.\n",
    "\n",
    "4. Write a **short** conclusion of what you have learned in this case-study and a discussion of your results.\n",
    "\n",
    "---"
   ]
  }
 ],
 "metadata": {
  "anaconda-cloud": {},
  "kernelspec": {
   "display_name": "Julia 1.2.0",
   "language": "julia",
   "name": "julia-1.2"
  },
  "language_info": {
   "file_extension": ".jl",
   "mimetype": "application/julia",
   "name": "julia",
   "version": "1.2.0"
  }
 },
 "nbformat": 4,
 "nbformat_minor": 4
}
